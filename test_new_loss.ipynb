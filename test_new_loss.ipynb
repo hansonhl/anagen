{
 "cells": [
  {
   "cell_type": "code",
   "execution_count": 1,
   "metadata": {},
   "outputs": [],
   "source": [
    "import torch\n",
    "from transformers import GPT2Tokenizer\n",
    "from transformers import GPT2LMHeadModel\n",
    "\n",
    "from torch.utils.data import DataLoader, Dataset, SequentialSampler\n",
    "\n",
    "import os\n",
    "import logging\n",
    "\n"
   ]
  },
  {
   "cell_type": "code",
   "execution_count": 2,
   "metadata": {},
   "outputs": [],
   "source": [
    "def my_collate(batch, tokenizer):\n",
    "    pad_token_id = None\n",
    "    if isinstance(tokenizer, GPT2Tokenizer):\n",
    "        pad_token_id = tokenizer.eos_token_id\n",
    "    else:\n",
    "        raise NotImplementedError\n",
    "    sorted_batch = sorted(batch, key=lambda b: b.shape[0], reverse=True)\n",
    "    padded = torch.nn.utils.rnn.pad_sequence(sorted_batch, batch_first=True,\n",
    "                                             padding_value=pad_token_id)\n",
    "    lengths = torch.LongTensor([len(x) for x in sorted_batch])\n",
    "    padding_mask = (torch.arange(padded.shape[1])[None, :] < lengths[:, None]) \\\n",
    "                   .type(torch.FloatTensor)\n",
    "\n",
    "    # logging.info(\"@@@@@@ padded.shape: {}\".format(padded.shape))\n",
    "    return padded, padding_mask"
   ]
  },
  {
   "cell_type": "code",
   "execution_count": 3,
   "metadata": {},
   "outputs": [],
   "source": [
    "class TextDataset(Dataset):\n",
    "    def __init__(self, tokenizer, file_path):\n",
    "        assert os.path.isfile(file_path)\n",
    "\n",
    "        self.examples = []\n",
    "        \n",
    "        line_count = 0\n",
    "        with open(file_path, \"r\", encoding=\"utf-8\") as f:\n",
    "            for line in f:\n",
    "                line_count += 1\n",
    "                text = line.strip()\n",
    "                tokenized_text = tokenizer.convert_tokens_to_ids(tokenizer.tokenize(text))\n",
    "                self.examples.append(tokenizer.build_inputs_with_special_tokens(tokenized_text))\n",
    "\n",
    "    def __len__(self):\n",
    "        return len(self.examples)\n",
    "\n",
    "    def __getitem__(self, item):\n",
    "        return torch.tensor(self.examples[item])"
   ]
  },
  {
   "cell_type": "code",
   "execution_count": 27,
   "metadata": {},
   "outputs": [],
   "source": [
    "from torch.nn import CrossEntropyLoss\n",
    "\n",
    "class AnagenGPT2LMHeadModel(GPT2LMHeadModel):\n",
    "    def forward(self, input_ids=None, past=None, attention_mask=None, token_type_ids=None, position_ids=None, head_mask=None, inputs_embeds=None,\n",
    "                labels=None):\n",
    "        transformer_outputs = self.transformer(input_ids,\n",
    "                                               past=past,\n",
    "                                               attention_mask=attention_mask,\n",
    "                                               token_type_ids=token_type_ids,\n",
    "                                               position_ids=position_ids,\n",
    "                                               head_mask=head_mask,\n",
    "                                               inputs_embeds=inputs_embeds)\n",
    "        hidden_states = transformer_outputs[0]\n",
    "\n",
    "        lm_logits = self.lm_head(hidden_states)\n",
    "\n",
    "        outputs = (lm_logits,) + transformer_outputs[1:]\n",
    "        if labels is not None:\n",
    "            # Shift so that tokens < n predict n\n",
    "            shift_logits = lm_logits[..., :-1, :].contiguous()\n",
    "            shift_labels = labels[..., 1:].contiguous()\n",
    "            print(\"shift_logits.shape\", shift_logits.shape)\n",
    "            print(\"shift_labels.shape\", shift_labels.shape)\n",
    "            \n",
    "            # Flatten the tokens\n",
    "            loss_fct = CrossEntropyLoss(ignore_index=-1)\n",
    "            loss1 = shift_logits.view(-1, shift_logits.size(-1))\n",
    "            print(\"loss1.shape\", loss1.shape)\n",
    "            loss2 = shift_labels.view(-1)\n",
    "            print(\"loss2.shape\", loss2.shape)\n",
    "            loss = loss_fct(loss1, loss2)\n",
    "            \n",
    "            print(\"loss2[:10]\", loss2[:10])\n",
    "            outputs = (loss,) + outputs\n",
    "\n",
    "        return outputs  # (loss), lm_logits, presents, (all hidden_states), (attentions)"
   ]
  },
  {
   "cell_type": "code",
   "execution_count": 28,
   "metadata": {},
   "outputs": [
    {
     "data": {
      "text/plain": [
       "Embedding(50261, 768)"
      ]
     },
     "execution_count": 28,
     "metadata": {},
     "output_type": "execute_result"
    }
   ],
   "source": [
    "model_dir = \"/home/hansonlu/links/data/anagen_models/anagen_b28_model\"\n",
    "tokenizer = GPT2Tokenizer.from_pretrained(model_dir)\n",
    "model = AnagenGPT2LMHeadModel.from_pretrained(model_dir)\n",
    "\n",
    "special_tokens_dict = {'additional_special_tokens': ['<anteced>', '</anteced>', '<anaphor>', '</anaphor>']}\n",
    "tokenizer.add_special_tokens(special_tokens_dict)\n",
    "model.resize_token_embeddings(len(tokenizer))"
   ]
  },
  {
   "cell_type": "code",
   "execution_count": 29,
   "metadata": {},
   "outputs": [],
   "source": [
    "train_dataset = TextDataset(tokenizer, file_path=\"data/dummy.txt\")\n",
    "train_batch_size = 3\n",
    "train_sampler = SequentialSampler(train_dataset)\n",
    "collate_fn = lambda b: my_collate(b, tokenizer)\n",
    "train_dataloader = DataLoader(train_dataset, sampler=train_sampler, batch_size=train_batch_size, collate_fn=collate_fn)\n",
    "\n",
    "model.zero_grad()"
   ]
  },
  {
   "cell_type": "code",
   "execution_count": 31,
   "metadata": {},
   "outputs": [
    {
     "name": "stdout",
     "output_type": "stream",
     "text": [
      "torch.Size([3, 73])\n",
      "tensor([17947,  2873,  6379, 14306,   319,   262,  3878,  3668,   286,  2807])\n",
      "shift_logits.shape torch.Size([3, 72, 50261])\n",
      "shift_labels.shape torch.Size([3, 72])\n",
      "loss1.shape torch.Size([216, 50261])\n",
      "loss2.shape torch.Size([216])\n",
      "loss2[:10] tensor([ 2873,  6379, 14306,   319,   262,  3878,  3668,   286,  2807,  1058])\n"
     ]
    }
   ],
   "source": [
    "for step, batch in enumerate(train_dataloader):\n",
    "    batch, attention_mask = batch\n",
    "    print(batch.shape)\n",
    "    inputs, labels = batch, batch\n",
    "    model.train()\n",
    "    outputs = model(inputs, attention_mask=attention_mask, labels=labels)\n",
    "    break"
   ]
  },
  {
   "cell_type": "code",
   "execution_count": null,
   "metadata": {},
   "outputs": [],
   "source": [
    "ctx_strs = [\"With <anteced> their </anteced> unique charm , <anaphor>\",\n",
    "            \"The world 's fifth <anteced> Disney </anteced> park will soon open to the public here . The most important thing about <anaphor>\"]\n",
    "\n",
    "examples = []\n",
    "for l in ctx_strs:\n",
    "    ctx_toks = tokenizer.encode(l, add_special_tokens=False)\n",
    "    examples.append(l)\n",
    "    print(ctx_toks)\n",
    "\n",
    "ctx = torch.tensor(ctx_toks, dtype=torch.long)\n",
    "print(ctx)\n",
    "ctx = ctx.unsqueeze(0).repeat(3, 1)\n",
    "print(ctx)\n",
    "\n",
    "inputs = {\"input_ids\": ctx}\n",
    "\n",
    "outputs = model(**inputs)\n",
    "print(outputs[0].shape)\n",
    "next_token_logits = outputs[0][:, -1, :]\n",
    "print(next_token_logits.shape)\n"
   ]
  },
  {
   "cell_type": "code",
   "execution_count": null,
   "metadata": {},
   "outputs": [],
   "source": []
  }
 ],
 "metadata": {
  "kernelspec": {
   "display_name": "Python 3",
   "language": "python",
   "name": "python3"
  },
  "language_info": {
   "codemirror_mode": {
    "name": "ipython",
    "version": 3
   },
   "file_extension": ".py",
   "mimetype": "text/x-python",
   "name": "python",
   "nbconvert_exporter": "python",
   "pygments_lexer": "ipython3",
   "version": "3.7.5"
  }
 },
 "nbformat": 4,
 "nbformat_minor": 2
}
