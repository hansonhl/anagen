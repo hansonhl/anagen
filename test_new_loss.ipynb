{
 "cells": [
  {
   "cell_type": "code",
   "execution_count": 1,
   "metadata": {},
   "outputs": [],
   "source": [
    "import torch\n",
    "from transformers import GPT2Tokenizer\n",
    "from transformers import GPT2LMHeadModel\n",
    "\n",
    "from torch.utils.data import DataLoader, Dataset, SequentialSampler\n",
    "\n",
    "import os\n",
    "import logging\n",
    "\n",
    "import time\n"
   ]
  },
  {
   "cell_type": "code",
   "execution_count": 2,
   "metadata": {},
   "outputs": [],
   "source": [
    "def tag_scale(batch, tokenizer, scale_method, scale_factor):\n",
    "\n",
    "    if scale_method == 'both_vs_other' or scale_method == 'both_only':\n",
    "        antec_beg_tok_id = tokenizer.encode(\"<anteced>\")[0]\n",
    "        antec_end_tok_id = tokenizer.encode(\"</anteced>\")[0]\n",
    "        anaph_beg_tok_id = tokenizer.encode(\"<anaphor>\")[0]\n",
    "        anaph_end_tok_id = tokenizer.encode(\"</anaphor>\")[0]\n",
    "\n",
    "        # partially vectorized version ~ 30 times faster!\n",
    "        antec_beg_idx = torch.tensor([s.tolist().index(antec_beg_tok_id) for s in batch]).view(-1, 1)\n",
    "        antec_end_idx = torch.tensor([s.tolist().index(antec_end_tok_id) for s in batch]).view(-1, 1)\n",
    "        anaph_beg_idx = torch.tensor([s.tolist().index(anaph_beg_tok_id) for s in batch]).view(-1, 1)\n",
    "        anaph_end_idx = torch.tensor([s.tolist().index(anaph_end_tok_id) for s in batch]).view(-1, 1)\n",
    "\n",
    "        ranges = torch.arange(batch.size(1)).view(1, -1).repeat_interleave(batch.size(0), dim=0)\n",
    "        booltensor = ((ranges >= antec_beg_idx) & (ranges <= antec_end_idx)) | ((ranges >= anaph_beg_idx) & (ranges <= anaph_end_idx))\n",
    "        if scale_method == 'both_vs_other':\n",
    "            res = torch.where(booltensor, torch.tensor(scale_factor), torch.tensor(1.))\n",
    "        else:\n",
    "            res = torch.where(booltensor, torch.tensor(1.), torch.tensor(0.))\n",
    "    \n",
    "    if scale_method == 'anaphor_vs_other' or scale_method == 'anaphor_only':\n",
    "        anaph_beg_tok_id = tokenizer.encode(\"<anaphor>\")[0]\n",
    "        anaph_end_tok_id = tokenizer.encode(\"</anaphor>\")[0]\n",
    "        anaph_beg_idx = torch.tensor([s.tolist().index(anaph_beg_tok_id) for s in batch]).view(-1, 1)\n",
    "        anaph_end_idx = torch.tensor([s.tolist().index(anaph_end_tok_id) for s in batch]).view(-1, 1)\n",
    "        ranges = torch.arange(batch.size(1)).view(1, -1).repeat_interleave(batch.size(0), dim=0)\n",
    "        booltensor = (ranges >= anaph_beg_idx) & (ranges <= anaph_end_idx)\n",
    "        if scale_method == 'anaphor_vs_other':\n",
    "            res = torch.where(booltensor, torch.tensor(scale_factor), torch.tensor(1.))\n",
    "        else:\n",
    "            res = torch.where(booltensor, torch.tensor(1.), torch.tensor(0.))\n",
    "        \n",
    "    return res\n",
    "    \n",
    "def my_scaled_collate(batch, tokenizer, scale_method, scale_factor):\n",
    "    pad_token_id = None\n",
    "    if isinstance(tokenizer, GPT2Tokenizer):\n",
    "        pad_token_id = tokenizer.eos_token_id\n",
    "    else:\n",
    "        raise NotImplementedError\n",
    "    sorted_batch = sorted(batch, key=lambda b: b.shape[0], reverse=True)\n",
    "    padded = torch.nn.utils.rnn.pad_sequence(sorted_batch, batch_first=True,\n",
    "                                             padding_value=pad_token_id)\n",
    "    scaling = tag_scale(padded, tokenizer, scale_method, scale_factor)\n",
    "    lengths = torch.LongTensor([len(x) for x in sorted_batch])\n",
    "    padding_mask = (torch.arange(padded.shape[1])[None, :] < lengths[:, None]) \\\n",
    "                   .type(torch.FloatTensor)\n",
    "\n",
    "    return padded, padding_mask, lengths, scaling\n",
    "\n",
    "    # for loop basic version\n",
    "#     start = time.time()\n",
    "#     scaling = []\n",
    "#     for s in batch:\n",
    "#         s_scaling = []\n",
    "#         in_tag = False\n",
    "#         for x in s:\n",
    "#             if x == antec_beg_tok_id or x == anaph_beg_tok_id:\n",
    "#                 in_tag = True\n",
    "#             s_scaling.append(scale_factor if in_tag else 1. )\n",
    "#             if x == antec_end_tok_id or x == anaph_end_tok_id:\n",
    "#                 in_tag = False\n",
    "#         scaling.append(s_scaling)\n",
    "#     res = torch.tensor(scaling)\n",
    "#     print(\"for loop time\", time.time() - start)\n",
    "#     return torch.tensor(scaling)"
   ]
  },
  {
   "cell_type": "code",
   "execution_count": 3,
   "metadata": {},
   "outputs": [],
   "source": [
    "class TextDataset(Dataset):\n",
    "    def __init__(self, tokenizer, file_path):\n",
    "        assert os.path.isfile(file_path)\n",
    "\n",
    "        self.examples = []\n",
    "        \n",
    "        line_count = 0\n",
    "        with open(file_path, \"r\", encoding=\"utf-8\") as f:\n",
    "            for line in f:\n",
    "                line_count += 1\n",
    "                text = line.strip()\n",
    "                tokenized_text = tokenizer.convert_tokens_to_ids(tokenizer.tokenize(text))\n",
    "                self.examples.append(tokenizer.build_inputs_with_special_tokens(tokenized_text))\n",
    "\n",
    "    def __len__(self):\n",
    "        return len(self.examples)\n",
    "\n",
    "    def __getitem__(self, item):\n",
    "        return torch.tensor(self.examples[item])"
   ]
  },
  {
   "cell_type": "code",
   "execution_count": 10,
   "metadata": {},
   "outputs": [],
   "source": [
    "from torch.nn import CrossEntropyLoss\n",
    "\n",
    "class AnagenGPT2LMHeadModel(GPT2LMHeadModel):\n",
    "    def forward(self, input_ids=None, past=None, attention_mask=None, token_type_ids=None, position_ids=None, head_mask=None, inputs_embeds=None,\n",
    "                labels=None, lengths=None, scaling=None):\n",
    "        transformer_outputs = self.transformer(input_ids,\n",
    "                                               past=past,\n",
    "                                               attention_mask=attention_mask,\n",
    "                                               token_type_ids=token_type_ids,\n",
    "                                               position_ids=position_ids,\n",
    "                                               head_mask=head_mask,\n",
    "                                               inputs_embeds=inputs_embeds)\n",
    "        hidden_states = transformer_outputs[0]\n",
    "        # print(\"hidden_states.shape\", hidden_states.shape) # torch.Size([3, 73, 768])\n",
    "\n",
    "        lm_logits = self.lm_head(hidden_states)\n",
    "        print(\"lm_logits.shape\", lm_logits.shape) # torch.size([3, 73, 50681])\n",
    "\n",
    "        outputs = (lm_logits,) + transformer_outputs[1:]\n",
    "        if labels is not None:\n",
    "            logits_mask = attention_mask.bool()\n",
    "            logits_mask[torch.arange(lm_logits.size(0)), lengths-1] = False\n",
    "            \n",
    "            labels_mask = attention_mask.bool()\n",
    "            labels_mask[:, 0] = False\n",
    "            \n",
    "            # Flatten the tokens\n",
    "            loss_fct = CrossEntropyLoss(ignore_index=-1, reduction=\"none\")\n",
    "            flat_logits = lm_logits.view(-1, lm_logits.size(-1))\n",
    "            flat_logits_mask = logits_mask.view(-1)\n",
    "            flat_labels = labels.view(-1)\n",
    "            flat_labels_mask = labels_mask.view(-1)\n",
    "            flat_scaling = scaling.view(-1)\n",
    "            filtered_logits = flat_logits[flat_logits_mask]\n",
    "            filtered_labels = flat_labels[flat_labels_mask]\n",
    "            filtered_scaling = flat_scaling[flat_labels_mask]\n",
    "            losses = loss_fct(filtered_logits, filtered_labels)\n",
    "            loss = torch.mean(losses * filtered_scaling)\n",
    "            \n",
    "            outputs = (loss,) + outputs\n",
    "\n",
    "        return outputs  # (loss), lm_logits, presents, (all hidden_states), (attentions)"
   ]
  },
  {
   "cell_type": "code",
   "execution_count": 11,
   "metadata": {},
   "outputs": [
    {
     "data": {
      "text/plain": [
       "Embedding(50261, 768)"
      ]
     },
     "execution_count": 11,
     "metadata": {},
     "output_type": "execute_result"
    }
   ],
   "source": [
    "model_dir = \"/home/hansonlu/links/data/anagen_models/anagen_b28_model\"\n",
    "tokenizer = GPT2Tokenizer.from_pretrained(model_dir)\n",
    "model = AnagenGPT2LMHeadModel.from_pretrained(model_dir)\n",
    "old_model = GPT2LMHeadModel.from_pretrained(model_dir)\n",
    "\n",
    "special_tokens_dict = {'additional_special_tokens': ['<anteced>', '</anteced>', '<anaphor>', '</anaphor>']}\n",
    "tokenizer.add_special_tokens(special_tokens_dict)\n",
    "model.resize_token_embeddings(len(tokenizer))\n",
    "old_model.resize_token_embeddings(len(tokenizer))"
   ]
  },
  {
   "cell_type": "code",
   "execution_count": 12,
   "metadata": {},
   "outputs": [],
   "source": [
    "train_dataset = TextDataset(tokenizer, file_path=\"data/dummy.txt\")\n",
    "train_batch_size = 3\n",
    "train_sampler = SequentialSampler(train_dataset)\n",
    "collate_fn = lambda b: my_scaled_collate(b, tokenizer, 'anaphor_only', 1)\n",
    "train_dataloader = DataLoader(train_dataset, sampler=train_sampler, batch_size=train_batch_size, collate_fn=collate_fn)\n",
    "\n",
    "model.zero_grad()\n",
    "old_model.zero_grad()"
   ]
  },
  {
   "cell_type": "code",
   "execution_count": 13,
   "metadata": {},
   "outputs": [
    {
     "name": "stdout",
     "output_type": "stream",
     "text": [
      "torch.Size([3, 73]) torch.Size([3, 73]) torch.Size([3]) torch.Size([3, 73])\n",
      "lm_logits.shape torch.Size([3, 73, 50261])\n"
     ]
    }
   ],
   "source": [
    "for step, batch in enumerate(train_dataloader):\n",
    "    batch, attention_mask, lengths, scaling = batch\n",
    "    print(batch.shape, attention_mask.shape, lengths.shape, scaling.shape)\n",
    "    inputs, labels = batch, batch\n",
    "    model.train()\n",
    "    outputs = model(inputs, attention_mask=attention_mask, labels=labels, lengths=lengths, scaling=scaling)\n",
    "       \n",
    "    #     old_start = time.time()\n",
    "    #     old_outputs = old_model(inputs, attention_mask=attention_mask, labels=labels)\n",
    "    #     print(\"old time\", time.time() - old_start)  \n",
    "        # TODO: need to try optimizer"
   ]
  },
  {
   "cell_type": "code",
   "execution_count": null,
   "metadata": {},
   "outputs": [],
   "source": [
    "# ctx_strs = [\"With <anteced> their </anteced> unique charm , <anaphor>\",\n",
    "#             \"The world 's fifth <anteced> Disney </anteced> park will soon open to the public here . The most important thing about <anaphor>\"]\n",
    "\n",
    "# examples = []\n",
    "# for l in ctx_strs:\n",
    "#     ctx_toks = tokenizer.encode(l, add_special_tokens=False)\n",
    "#     examples.append(l)\n",
    "#     print(ctx_toks)\n",
    "\n",
    "# ctx = torch.tensor(ctx_toks, dtype=torch.long)\n",
    "# print(ctx)\n",
    "# ctx = ctx.unsqueeze(0).repeat(3, 1)\n",
    "# print(ctx)\n",
    "\n",
    "# inputs = {\"input_ids\": ctx}\n",
    "\n",
    "# outputs = model(**inputs)\n",
    "# print(outputs[0].shape)\n",
    "# next_token_logits = outputs[0][:, -1, :]\n",
    "# print(next_token_logits.shape)\n"
   ]
  },
  {
   "cell_type": "code",
   "execution_count": null,
   "metadata": {},
   "outputs": [],
   "source": [
    "0.0002567768096923828\n",
    "0.005959749221801758"
   ]
  }
 ],
 "metadata": {
  "kernelspec": {
   "display_name": "Python 3",
   "language": "python",
   "name": "python3"
  },
  "language_info": {
   "codemirror_mode": {
    "name": "ipython",
    "version": 3
   },
   "file_extension": ".py",
   "mimetype": "text/x-python",
   "name": "python",
   "nbconvert_exporter": "python",
   "pygments_lexer": "ipython3",
   "version": "3.7.5"
  }
 },
 "nbformat": 4,
 "nbformat_minor": 2
}
