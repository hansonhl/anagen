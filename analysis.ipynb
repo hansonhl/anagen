{
 "cells": [
  {
   "cell_type": "markdown",
   "metadata": {},
   "source": [
    "# Anagen evaluation"
   ]
  },
  {
   "cell_type": "code",
   "execution_count": 3,
   "metadata": {},
   "outputs": [
    {
     "ename": "OSError",
     "evalue": "Model name '/home/hansonlu/links/data/anagen_models/anagen_b28_model' was not found in tokenizers model name list (gpt2, gpt2-medium, gpt2-large, gpt2-xl, distilgpt2). We assumed '/home/hansonlu/links/data/anagen_models/anagen_b28_model' was a path or url to a directory containing vocabulary files named ['vocab.json', 'merges.txt'] but couldn't find such vocabulary files at this path or url.",
     "output_type": "error",
     "traceback": [
      "\u001b[0;31m---------------------------------------------------------------------------\u001b[0m",
      "\u001b[0;31mOSError\u001b[0m                                   Traceback (most recent call last)",
      "\u001b[0;32m<ipython-input-3-b2e6d958ad6e>\u001b[0m in \u001b[0;36m<module>\u001b[0;34m\u001b[0m\n\u001b[1;32m     15\u001b[0m \u001b[0mmodel_dir\u001b[0m \u001b[0;34m=\u001b[0m \u001b[0;34m\"/home/hansonlu/links/data/anagen_models/anagen_b28_model\"\u001b[0m\u001b[0;34m\u001b[0m\u001b[0;34m\u001b[0m\u001b[0m\n\u001b[1;32m     16\u001b[0m \u001b[0;34m\u001b[0m\u001b[0m\n\u001b[0;32m---> 17\u001b[0;31m \u001b[0mtokenizer\u001b[0m \u001b[0;34m=\u001b[0m \u001b[0mGPT2Tokenizer\u001b[0m\u001b[0;34m.\u001b[0m\u001b[0mfrom_pretrained\u001b[0m\u001b[0;34m(\u001b[0m\u001b[0mmodel_dir\u001b[0m\u001b[0;34m)\u001b[0m\u001b[0;34m\u001b[0m\u001b[0;34m\u001b[0m\u001b[0m\n\u001b[0m\u001b[1;32m     18\u001b[0m \u001b[0;34m\u001b[0m\u001b[0m\n\u001b[1;32m     19\u001b[0m \u001b[0;31m# for parser\u001b[0m\u001b[0;34m\u001b[0m\u001b[0;34m\u001b[0m\u001b[0;34m\u001b[0m\u001b[0m\n",
      "\u001b[0;32m~/anaconda3/envs/allennlp/lib/python3.7/site-packages/transformers/tokenization_utils.py\u001b[0m in \u001b[0;36mfrom_pretrained\u001b[0;34m(cls, *inputs, **kwargs)\u001b[0m\n\u001b[1;32m    285\u001b[0m \u001b[0;34m\u001b[0m\u001b[0m\n\u001b[1;32m    286\u001b[0m         \"\"\"\n\u001b[0;32m--> 287\u001b[0;31m         \u001b[0;32mreturn\u001b[0m \u001b[0mcls\u001b[0m\u001b[0;34m.\u001b[0m\u001b[0m_from_pretrained\u001b[0m\u001b[0;34m(\u001b[0m\u001b[0;34m*\u001b[0m\u001b[0minputs\u001b[0m\u001b[0;34m,\u001b[0m \u001b[0;34m**\u001b[0m\u001b[0mkwargs\u001b[0m\u001b[0;34m)\u001b[0m\u001b[0;34m\u001b[0m\u001b[0;34m\u001b[0m\u001b[0m\n\u001b[0m\u001b[1;32m    288\u001b[0m \u001b[0;34m\u001b[0m\u001b[0m\n\u001b[1;32m    289\u001b[0m \u001b[0;34m\u001b[0m\u001b[0m\n",
      "\u001b[0;32m~/anaconda3/envs/allennlp/lib/python3.7/site-packages/transformers/tokenization_utils.py\u001b[0m in \u001b[0;36m_from_pretrained\u001b[0;34m(cls, pretrained_model_name_or_path, *init_inputs, **kwargs)\u001b[0m\n\u001b[1;32m    350\u001b[0m                         \u001b[0mpretrained_model_name_or_path\u001b[0m\u001b[0;34m,\u001b[0m \u001b[0;34m', '\u001b[0m\u001b[0;34m.\u001b[0m\u001b[0mjoin\u001b[0m\u001b[0;34m(\u001b[0m\u001b[0ms3_models\u001b[0m\u001b[0;34m)\u001b[0m\u001b[0;34m,\u001b[0m\u001b[0;34m\u001b[0m\u001b[0;34m\u001b[0m\u001b[0m\n\u001b[1;32m    351\u001b[0m                         \u001b[0mpretrained_model_name_or_path\u001b[0m\u001b[0;34m,\u001b[0m\u001b[0;34m\u001b[0m\u001b[0;34m\u001b[0m\u001b[0m\n\u001b[0;32m--> 352\u001b[0;31m                         list(cls.vocab_files_names.values())))\n\u001b[0m\u001b[1;32m    353\u001b[0m \u001b[0;34m\u001b[0m\u001b[0m\n\u001b[1;32m    354\u001b[0m         \u001b[0;31m# Get files from url, cache, or disk depending on the case\u001b[0m\u001b[0;34m\u001b[0m\u001b[0;34m\u001b[0m\u001b[0;34m\u001b[0m\u001b[0m\n",
      "\u001b[0;31mOSError\u001b[0m: Model name '/home/hansonlu/links/data/anagen_models/anagen_b28_model' was not found in tokenizers model name list (gpt2, gpt2-medium, gpt2-large, gpt2-xl, distilgpt2). We assumed '/home/hansonlu/links/data/anagen_models/anagen_b28_model' was a path or url to a directory containing vocabulary files named ['vocab.json', 'merges.txt'] but couldn't find such vocabulary files at this path or url."
     ]
    }
   ],
   "source": [
    "# setup\n",
    "import pandas as pd\n",
    "import nltk\n",
    "from tqdm import tqdm\n",
    "from transformers import GPT2Tokenizer\n",
    "from nltk.parse import CoreNLPParser\n",
    "from nltk.translate.bleu_score import corpus_bleu\n",
    "\n",
    "import numpy as np\n",
    "from sklearn.metrics import confusion_matrix\n",
    "import seaborn as sns\n",
    "import matplotlib.pyplot as plt\n",
    "\n",
    "raw_res_file = \"results/b28_res.csv\"\n",
    "model_dir = \"/home/hansonlu/links/data/anagen_models/anagen_b28_model\"\n",
    "\n",
    "tokenizer = GPT2Tokenizer.from_pretrained(model_dir)\n",
    "\n",
    "# for parser\n",
    "# in terminal, run the following script:\n",
    "\"\"\"\n",
    "cd ~/stanford-corenlp-full-2018-02-27\n",
    "java -mx4g -cp \"*\" edu.stanford.nlp.pipeline.StanfordCoreNLPServer \\\n",
    "> -preload tokenize,ssplit,pos,lemma,ner,parse,depparse \\\n",
    "> -status_port 9000 -port 9000 -timeout 15000 & \n",
    "\"\"\"\n",
    "\n",
    "# parser = CoreNLPParser(url='http://localhost:9000')\n",
    "\n",
    "# for named entity recoginition\n",
    "\n",
    "import spacy\n",
    "nlp = spacy.load(\"en_core_web_sm\")\n",
    "\n",
    "NUM_SAMPLES=5\n",
    "\n"
   ]
  },
  {
   "cell_type": "code",
   "execution_count": 8,
   "metadata": {},
   "outputs": [],
   "source": [
    "raw_df = pd.read_csv(raw_res_file)"
   ]
  },
  {
   "cell_type": "code",
   "execution_count": 9,
   "metadata": {},
   "outputs": [],
   "source": [
    "from nltk.tokenize import word_tokenize\n",
    "def tokenize(text, use_gpt2=False):\n",
    "    if use_gpt2:\n",
    "        return [t.lstrip(\"Ġ\") for t in tokenizer.tokenize(text)]\n",
    "    else:\n",
    "        return word_tokenize(text)"
   ]
  },
  {
   "cell_type": "markdown",
   "metadata": {},
   "source": [
    "## BLEU score"
   ]
  },
  {
   "cell_type": "code",
   "execution_count": 10,
   "metadata": {},
   "outputs": [],
   "source": [
    "def evaluate_BLEU(df):\n",
    "    references = []\n",
    "    preds = []\n",
    "    for i, row in df.iterrows():\n",
    "        # retokenize both strings using GPT2 Tokenizer\n",
    "        gold_toks = [tokenize(row[\"gold\"], use_gpt2=True)]\n",
    "        pred_toks = tokenize(row[\"pred0\"], use_gpt2=True)\n",
    "        references.append(gold_toks)\n",
    "        preds.append(pred_toks)\n",
    "    score = corpus_bleu(references, preds)\n",
    "    return score\n",
    "    "
   ]
  },
  {
   "cell_type": "code",
   "execution_count": 11,
   "metadata": {},
   "outputs": [
    {
     "data": {
      "text/plain": [
       "0.046143494367558144"
      ]
     },
     "execution_count": 11,
     "metadata": {},
     "output_type": "execute_result"
    }
   ],
   "source": [
    "BLEU_score = evaluate_BLEU(raw_df)\n",
    "BLEU_score"
   ]
  },
  {
   "cell_type": "markdown",
   "metadata": {},
   "source": [
    "## Categorizing each output"
   ]
  },
  {
   "cell_type": "code",
   "execution_count": 12,
   "metadata": {},
   "outputs": [],
   "source": [
    "# nltk.download()"
   ]
  },
  {
   "cell_type": "code",
   "execution_count": 13,
   "metadata": {},
   "outputs": [
    {
     "data": {
      "text/plain": [
       "'IN'"
      ]
     },
     "execution_count": 13,
     "metadata": {},
     "output_type": "execute_result"
    }
   ],
   "source": [
    "import nltk\n",
    "text = tokenize(\"that\")\n",
    "nltk.pos_tag(text)[0][1]"
   ]
  },
  {
   "cell_type": "code",
   "execution_count": 14,
   "metadata": {},
   "outputs": [],
   "source": [
    "def look_for_poss_pron(df):\n",
    "    pron_list = [\"both\", \"few\", \"many\",\"several\"]\n",
    "#                 \"herself\", \"itself\", \"themselves\"]\n",
    "    count = 0\n",
    "    for i, row in df.iterrows():\n",
    "        g = tokenize(row[\"gold\"])\n",
    "        if len(g) == 1 and g[0] in pron_list:\n",
    "            print(row[\"context\"] + \" >>>(gold)>>> \" + g[0])\n",
    "            count += 1\n",
    "        for j in range(NUM_SAMPLES):\n",
    "            s = tokenize(row[\"pred%d\"%j])\n",
    "            if len(s) > 1:\n",
    "                continue\n",
    "            if s[0] in pron_list:\n",
    "                print(row[\"context\"] + \" >>>(pred)>>> \" + s[0])\n",
    "                count += 1\n",
    "    print(count)"
   ]
  },
  {
   "cell_type": "code",
   "execution_count": 15,
   "metadata": {},
   "outputs": [
    {
     "name": "stdout",
     "output_type": "stream",
     "text": [
      "They announced a reduction in formalities for travel , but did n't show any real signs of resuming full diplomatic ties . The Egyptian president said he would visit Libya today to resume the talks . <anteced> Seoul and Pyongyang </anteced> reached a tentative agreement to allow visits between families on the divided Korean peninsula . Such family reunions would be the second since 1945 . Differences remained between >>>(pred)>>> both\n",
      "In an interview Thursday , Claude Bebear , <anteced> chairman and chief executive officer </anteced> of Axa , said his group has already obtained assurances from a group of banks led by Cie . Financiere de Paribas that they can provide the loan portion of the financing . The other banking companies in the group are Credit Lyonnais , Societe Generale , BankAmerica Corp. and Citicorp , >>>(pred)>>> both\n",
      "In an interview Thursday , Claude Bebear , chairman and chief executive officer of Axa , said <anteced> his </anteced> group has already obtained assurances from a group of banks led by Cie . Financiere de Paribas that they can provide the loan portion of the financing . The other banking companies in the group are Credit Lyonnais , Societe Generale , BankAmerica Corp. and Citicorp , >>>(pred)>>> both\n",
      "3\n"
     ]
    }
   ],
   "source": [
    "# look_for_poss_pron(raw_df)"
   ]
  },
  {
   "cell_type": "code",
   "execution_count": 16,
   "metadata": {},
   "outputs": [],
   "source": [
    "personal_pron_list = [\"I\", \"me\", \"my\", \"mine\", \n",
    "                        \"you\", \"your\", \"yours\",\n",
    "                        \"she\", \"her\", \"hers\",\n",
    "                        \"he\", \"him\", \"his\",\n",
    "                        \"it\", \"its\",\n",
    "                        \"we\", \"us\", \"our\", \"ours\",\n",
    "                        \"they\", \"them\", \"their\", \"theirs\",\n",
    "                      \"myself\", \"ourselves\",\n",
    "                      \"yourself\", \"yourselves\",\n",
    "                      \"himself\", \"herself\", \"itself\",\n",
    "                     \"theirselves\", \"theirself\"]\n",
    "other_pron_list = [\"this\", \"these\",\n",
    "                \"that\", \"those\",\n",
    "                \"all\", \"any\", \"most\", \"some\", \"none\",\n",
    "                \"anybody\", \"anyone\", \"anything\",\"each\",\n",
    "                \"either\",\"everybody\",\"everyone\",\"everything\",\"neither\",\"nobody\",\n",
    "                \"one\",\"someone\",\"somebody\",\"something\",\n",
    "                \"both\",\"few\",\"many\",\"several\"]\n",
    "personal_pron_set = set(personal_pron_list)\n",
    "other_pron_set = set(other_pron_list)\n",
    "\n",
    "def is_pronoun(toks):\n",
    "    # assume all pronouns have length==1\n",
    "    if len(toks) > 1:\n",
    "        return False\n",
    "    s = toks[0]\n",
    "    if s != \"I\":\n",
    "        s = s.lower()\n",
    "    return (s in personal_pron_set or s in other_pron_set)\n",
    "    "
   ]
  },
  {
   "cell_type": "code",
   "execution_count": 17,
   "metadata": {},
   "outputs": [],
   "source": [
    "def is_named_entity(text):\n",
    "    \"\"\"uses spaCy to determine if a text is an entity\"\"\"\n",
    "    text = text.strip(\"'s\")\n",
    "    doc = nlp(text)\n",
    "    if len(doc.ents) != 1:\n",
    "        return False\n",
    "    ent = doc.ents[0]\n",
    "    return ent.start_char == 0 and ent.end_char == len(text)\n",
    "    "
   ]
  },
  {
   "cell_type": "code",
   "execution_count": 18,
   "metadata": {},
   "outputs": [],
   "source": [
    "def get_type(s):\n",
    "    toks = tokenize(s)\n",
    "    if \"<anaphor>\" in s:\n",
    "        return \"invalid\"\n",
    "    if is_pronoun(toks):\n",
    "        return \"pronoun\" # pronoun\n",
    "    if is_named_entity(s):\n",
    "        return \"name\"\n",
    "    else:\n",
    "        return \"other\""
   ]
  },
  {
   "cell_type": "code",
   "execution_count": 19,
   "metadata": {},
   "outputs": [
    {
     "data": {
      "text/html": [
       "<div>\n",
       "<style scoped>\n",
       "    .dataframe tbody tr th:only-of-type {\n",
       "        vertical-align: middle;\n",
       "    }\n",
       "\n",
       "    .dataframe tbody tr th {\n",
       "        vertical-align: top;\n",
       "    }\n",
       "\n",
       "    .dataframe thead th {\n",
       "        text-align: right;\n",
       "    }\n",
       "</style>\n",
       "<table border=\"1\" class=\"dataframe\">\n",
       "  <thead>\n",
       "    <tr style=\"text-align: right;\">\n",
       "      <th></th>\n",
       "      <th>context</th>\n",
       "      <th>gold</th>\n",
       "      <th>pred0</th>\n",
       "      <th>pred1</th>\n",
       "      <th>pred2</th>\n",
       "      <th>pred3</th>\n",
       "      <th>pred4</th>\n",
       "    </tr>\n",
       "  </thead>\n",
       "  <tbody>\n",
       "    <tr>\n",
       "      <th>0</th>\n",
       "      <td>With &lt;anteced&gt; their &lt;/anteced&gt; unique charm ,</td>\n",
       "      <td>these well - known cartoon images</td>\n",
       "      <td>they</td>\n",
       "      <td>the two men's</td>\n",
       "      <td>they</td>\n",
       "      <td>the girls</td>\n",
       "      <td>they</td>\n",
       "    </tr>\n",
       "    <tr>\n",
       "      <th>1</th>\n",
       "      <td>With their unique charm , these well - known c...</td>\n",
       "      <td>Disney</td>\n",
       "      <td>the park</td>\n",
       "      <td>that park</td>\n",
       "      <td>that</td>\n",
       "      <td>this</td>\n",
       "      <td>the new park</td>\n",
       "    </tr>\n",
       "    <tr>\n",
       "      <th>2</th>\n",
       "      <td>With their unique charm , these well - known c...</td>\n",
       "      <td>it</td>\n",
       "      <td>it</td>\n",
       "      <td>it</td>\n",
       "      <td>it</td>\n",
       "      <td>they</td>\n",
       "      <td>it</td>\n",
       "    </tr>\n",
       "    <tr>\n",
       "      <th>3</th>\n",
       "      <td>With their unique charm , these well - known c...</td>\n",
       "      <td>it</td>\n",
       "      <td>it</td>\n",
       "      <td>the park</td>\n",
       "      <td>it</td>\n",
       "      <td>it</td>\n",
       "      <td>they</td>\n",
       "    </tr>\n",
       "    <tr>\n",
       "      <th>4</th>\n",
       "      <td>With their unique charm , these well - known c...</td>\n",
       "      <td>it</td>\n",
       "      <td>Hong Kong</td>\n",
       "      <td>its</td>\n",
       "      <td>the parks</td>\n",
       "      <td>it</td>\n",
       "      <td>its</td>\n",
       "    </tr>\n",
       "  </tbody>\n",
       "</table>\n",
       "</div>"
      ],
      "text/plain": [
       "                                             context  \\\n",
       "0     With <anteced> their </anteced> unique charm ,   \n",
       "1  With their unique charm , these well - known c...   \n",
       "2  With their unique charm , these well - known c...   \n",
       "3  With their unique charm , these well - known c...   \n",
       "4  With their unique charm , these well - known c...   \n",
       "\n",
       "                                gold      pred0          pred1      pred2  \\\n",
       "0  these well - known cartoon images       they  the two men's       they   \n",
       "1                             Disney   the park      that park       that   \n",
       "2                                 it         it             it         it   \n",
       "3                                 it         it       the park         it   \n",
       "4                                 it  Hong Kong            its  the parks   \n",
       "\n",
       "       pred3         pred4  \n",
       "0  the girls          they  \n",
       "1       this  the new park  \n",
       "2       they            it  \n",
       "3         it          they  \n",
       "4         it           its  "
      ]
     },
     "execution_count": 19,
     "metadata": {},
     "output_type": "execute_result"
    }
   ],
   "source": [
    "raw_df.head()"
   ]
  },
  {
   "cell_type": "code",
   "execution_count": 20,
   "metadata": {},
   "outputs": [],
   "source": [
    "def add_column(df, pos, column_name, default=None):\n",
    "    if column_name not in df.columns:\n",
    "        df.insert(pos, column_name, default)\n",
    "\n",
    "def categorize(df):\n",
    "    # update df to include categories of predictions\n",
    "    \n",
    "    # add new category columns to dataframe, if not exists\n",
    "    add_column(df, len(df.columns), \"gold_type\")\n",
    "    for j in range(NUM_SAMPLES):\n",
    "        new_col_pos = add_column(df, len(df.columns), \"pred%d_type\" % j)\n",
    "        \n",
    "    # initialize update_dict\n",
    "    update_dict = {\"gold_type\": []}\n",
    "    for j in range(NUM_SAMPLES):\n",
    "        update_dict[\"pred%d_type\" % j] = []\n",
    "        \n",
    "    # find categories\n",
    "    total_rows = df.shape[0]\n",
    "    for i, row in tqdm(df.iterrows(),total=total_rows):\n",
    "        update_dict[\"gold_type\"].append(get_type(row[\"gold\"]))\n",
    "        for j in range(NUM_SAMPLES):\n",
    "            update_dict[\"pred%d_type\" % j].append(get_type(row[\"pred%d\" % j]))\n",
    "    \n",
    "    df.update(pd.DataFrame(update_dict))\n",
    "        "
   ]
  },
  {
   "cell_type": "code",
   "execution_count": 21,
   "metadata": {},
   "outputs": [
    {
     "name": "stderr",
     "output_type": "stream",
     "text": [
      "100%|██████████| 7995/7995 [01:08<00:00, 117.30it/s]\n"
     ]
    }
   ],
   "source": [
    "categorize(raw_df)"
   ]
  },
  {
   "cell_type": "code",
   "execution_count": 68,
   "metadata": {},
   "outputs": [
    {
     "data": {
      "text/html": [
       "<div>\n",
       "<style scoped>\n",
       "    .dataframe tbody tr th:only-of-type {\n",
       "        vertical-align: middle;\n",
       "    }\n",
       "\n",
       "    .dataframe tbody tr th {\n",
       "        vertical-align: top;\n",
       "    }\n",
       "\n",
       "    .dataframe thead th {\n",
       "        text-align: right;\n",
       "    }\n",
       "</style>\n",
       "<table border=\"1\" class=\"dataframe\">\n",
       "  <thead>\n",
       "    <tr style=\"text-align: right;\">\n",
       "      <th></th>\n",
       "      <th>context</th>\n",
       "      <th>gold</th>\n",
       "      <th>pred0</th>\n",
       "      <th>pred1</th>\n",
       "      <th>pred2</th>\n",
       "      <th>pred3</th>\n",
       "      <th>pred4</th>\n",
       "      <th>gold_type</th>\n",
       "      <th>pred0_type</th>\n",
       "      <th>pred1_type</th>\n",
       "      <th>pred2_type</th>\n",
       "      <th>pred3_type</th>\n",
       "      <th>pred4_type</th>\n",
       "    </tr>\n",
       "  </thead>\n",
       "  <tbody>\n",
       "    <tr>\n",
       "      <th>0</th>\n",
       "      <td>With &lt;anteced&gt; their &lt;/anteced&gt; unique charm ,</td>\n",
       "      <td>these well - known cartoon images</td>\n",
       "      <td>they</td>\n",
       "      <td>the two men's</td>\n",
       "      <td>they</td>\n",
       "      <td>the girls</td>\n",
       "      <td>they</td>\n",
       "      <td>other</td>\n",
       "      <td>pronoun</td>\n",
       "      <td>other</td>\n",
       "      <td>pronoun</td>\n",
       "      <td>other</td>\n",
       "      <td>pronoun</td>\n",
       "    </tr>\n",
       "    <tr>\n",
       "      <th>1</th>\n",
       "      <td>With their unique charm , these well - known c...</td>\n",
       "      <td>Disney</td>\n",
       "      <td>the park</td>\n",
       "      <td>that park</td>\n",
       "      <td>that</td>\n",
       "      <td>this</td>\n",
       "      <td>the new park</td>\n",
       "      <td>other</td>\n",
       "      <td>other</td>\n",
       "      <td>other</td>\n",
       "      <td>pronoun</td>\n",
       "      <td>pronoun</td>\n",
       "      <td>other</td>\n",
       "    </tr>\n",
       "    <tr>\n",
       "      <th>2</th>\n",
       "      <td>With their unique charm , these well - known c...</td>\n",
       "      <td>it</td>\n",
       "      <td>it</td>\n",
       "      <td>it</td>\n",
       "      <td>it</td>\n",
       "      <td>they</td>\n",
       "      <td>it</td>\n",
       "      <td>pronoun</td>\n",
       "      <td>pronoun</td>\n",
       "      <td>pronoun</td>\n",
       "      <td>pronoun</td>\n",
       "      <td>pronoun</td>\n",
       "      <td>pronoun</td>\n",
       "    </tr>\n",
       "    <tr>\n",
       "      <th>3</th>\n",
       "      <td>With their unique charm , these well - known c...</td>\n",
       "      <td>it</td>\n",
       "      <td>it</td>\n",
       "      <td>the park</td>\n",
       "      <td>it</td>\n",
       "      <td>it</td>\n",
       "      <td>they</td>\n",
       "      <td>pronoun</td>\n",
       "      <td>pronoun</td>\n",
       "      <td>other</td>\n",
       "      <td>pronoun</td>\n",
       "      <td>pronoun</td>\n",
       "      <td>pronoun</td>\n",
       "    </tr>\n",
       "    <tr>\n",
       "      <th>4</th>\n",
       "      <td>With their unique charm , these well - known c...</td>\n",
       "      <td>it</td>\n",
       "      <td>Hong Kong</td>\n",
       "      <td>its</td>\n",
       "      <td>the parks</td>\n",
       "      <td>it</td>\n",
       "      <td>its</td>\n",
       "      <td>pronoun</td>\n",
       "      <td>name</td>\n",
       "      <td>pronoun</td>\n",
       "      <td>other</td>\n",
       "      <td>pronoun</td>\n",
       "      <td>pronoun</td>\n",
       "    </tr>\n",
       "  </tbody>\n",
       "</table>\n",
       "</div>"
      ],
      "text/plain": [
       "                                             context  \\\n",
       "0     With <anteced> their </anteced> unique charm ,   \n",
       "1  With their unique charm , these well - known c...   \n",
       "2  With their unique charm , these well - known c...   \n",
       "3  With their unique charm , these well - known c...   \n",
       "4  With their unique charm , these well - known c...   \n",
       "\n",
       "                                gold      pred0          pred1      pred2  \\\n",
       "0  these well - known cartoon images       they  the two men's       they   \n",
       "1                             Disney   the park      that park       that   \n",
       "2                                 it         it             it         it   \n",
       "3                                 it         it       the park         it   \n",
       "4                                 it  Hong Kong            its  the parks   \n",
       "\n",
       "       pred3         pred4 gold_type pred0_type pred1_type pred2_type  \\\n",
       "0  the girls          they     other    pronoun      other    pronoun   \n",
       "1       this  the new park     other      other      other    pronoun   \n",
       "2       they            it   pronoun    pronoun    pronoun    pronoun   \n",
       "3         it          they   pronoun    pronoun      other    pronoun   \n",
       "4         it           its   pronoun       name    pronoun      other   \n",
       "\n",
       "  pred3_type pred4_type  \n",
       "0      other    pronoun  \n",
       "1    pronoun      other  \n",
       "2    pronoun    pronoun  \n",
       "3    pronoun    pronoun  \n",
       "4    pronoun    pronoun  "
      ]
     },
     "execution_count": 68,
     "metadata": {},
     "output_type": "execute_result"
    }
   ],
   "source": [
    "raw_df.head()"
   ]
  },
  {
   "cell_type": "markdown",
   "metadata": {},
   "source": [
    "## Todo"
   ]
  },
  {
   "cell_type": "markdown",
   "metadata": {},
   "source": [
    "- Calculate BLEU scores for names and other\n",
    "\n",
    "- Calculate accuracy, precision and recall for pronouns\n",
    "\n",
    "- Generate confusion matrix plot\n",
    "\n",
    "- Gender and number agreement"
   ]
  },
  {
   "cell_type": "markdown",
   "metadata": {},
   "source": [
    "## BLEU score for names and other"
   ]
  },
  {
   "cell_type": "code",
   "execution_count": 76,
   "metadata": {},
   "outputs": [],
   "source": [
    "def evaluate_BLEU_for_non_pronouns(df):\n",
    "    references = []\n",
    "    preds = []\n",
    "    for i, row in df.iterrows():\n",
    "        # retokenize both strings using GPT2 Tokenizer\n",
    "        if row[\"gold_type\"] == \"other\" and row[\"pred0_type\"] == \"other\":\n",
    "            gold_toks = [tokenize(row[\"gold\"], use_gpt2=True)]\n",
    "            pred_toks = tokenize(row[\"pred0\"], use_gpt2=True)\n",
    "            references.append(gold_toks)\n",
    "            preds.append(pred_toks)\n",
    "    score = corpus_bleu(references, preds)\n",
    "    return score"
   ]
  },
  {
   "cell_type": "code",
   "execution_count": 77,
   "metadata": {},
   "outputs": [
    {
     "data": {
      "text/plain": [
       "0.1306181519023153"
      ]
     },
     "execution_count": 77,
     "metadata": {},
     "output_type": "execute_result"
    }
   ],
   "source": [
    "evaluate_BLEU_for_non_pronouns(raw_df)"
   ]
  },
  {
   "cell_type": "markdown",
   "metadata": {},
   "source": [
    "## Confusion matrix analysis for categories"
   ]
  },
  {
   "cell_type": "code",
   "execution_count": 80,
   "metadata": {},
   "outputs": [],
   "source": [
    "def category_confusion_mtx_analysis(df, pred_i=0):\n",
    "    assert pred_i < NUM_SAMPLES\n",
    "    \n",
    "    total_count = 0\n",
    "    invalid_count = 0\n",
    "    golds = []\n",
    "    preds = []\n",
    "    \n",
    "    for i, row in df.iterrows():\n",
    "        total_count += 1\n",
    "        if row[\"pred%d_type\" % pred_i] == \"invalid\":\n",
    "            invalid_count += 1\n",
    "        golds.append(row[\"gold_type\"])\n",
    "        preds.append(row[\"pred%d_type\" % pred_i])\n",
    "    \n",
    "    labels = [\"pronoun\", \"name\", \"other\", \"invalid\"]\n",
    "    cmtx = confusion_matrix(golds, preds, labels=labels)\n",
    "    df_cm = pd.DataFrame(cmtx, index=labels, columns=labels)\n",
    "    sns.set(font_scale=1.4)#for label size\n",
    "    sns.heatmap(df_cm, fmt=\"d\", annot=True,annot_kws={\"size\": 18})# font size\n",
    "\n",
    "    plt.show()\n",
    "    return cmtx\n",
    "    "
   ]
  },
  {
   "cell_type": "code",
   "execution_count": 81,
   "metadata": {},
   "outputs": [
    {
     "data": {
      "image/png": "[encoded data removed]",
      "text/plain": [
       "<Figure size 432x288 with 2 Axes>"
      ]
     },
     "metadata": {},
     "output_type": "display_data"
    }
   ],
   "source": [
    "cmtx = category_confusion_mtx_analysis(raw_df, 0)"
   ]
  },
  {
   "cell_type": "markdown",
   "metadata": {},
   "source": [
    "## Category analysis"
   ]
  },
  {
   "cell_type": "code",
   "execution_count": 82,
   "metadata": {},
   "outputs": [],
   "source": [
    "from collections import Counter\n",
    "\n",
    "def mulit_sample_category_confusion_mtx_analysis(df):    \n",
    "    golds = []\n",
    "    preds = []\n",
    "    \n",
    "    for i, row in df.iterrows():\n",
    "        golds.append(row[\"gold_type\"])\n",
    "        curr_preds = Counter()\n",
    "        match = False\n",
    "        for j in range(NUM_SAMPLES):\n",
    "            curr_preds[row[\"pred%d_type\" % j]] += 1\n",
    "            if row[\"pred%d_type\" % j] == row[\"gold_type\"]:\n",
    "                preds.append(row[\"pred%d_type\" % j])\n",
    "                match = True\n",
    "                break\n",
    "        if not match:\n",
    "            preds.append(curr_preds.most_common(1)[0][0])\n",
    "                \n",
    "    labels = [\"pronoun\", \"name\", \"other\", \"invalid\"]\n",
    "    cmtx = confusion_matrix(golds, preds, labels=labels)\n",
    "    df_cm = pd.DataFrame(cmtx, index=labels, columns=labels)\n",
    "    sns.set(font_scale=1.4)#for label size\n",
    "    sns.heatmap(df_cm, fmt=\"d\", annot=True,annot_kws={\"size\": 18})# font size\n",
    "\n",
    "    plt.show()\n",
    "    return cmtx"
   ]
  },
  {
   "cell_type": "code",
   "execution_count": 83,
   "metadata": {},
   "outputs": [
    {
     "data": {
      "image/png": "[encoded data removed]",
      "text/plain": [
       "<Figure size 432x288 with 2 Axes>"
      ]
     },
     "metadata": {},
     "output_type": "display_data"
    }
   ],
   "source": [
    "cmtx = mulit_sample_category_confusion_mtx_analysis(raw_df)"
   ]
  },
  {
   "cell_type": "markdown",
   "metadata": {},
   "source": [
    "## Pronoun confusion matrix analysis"
   ]
  },
  {
   "cell_type": "code",
   "execution_count": 86,
   "metadata": {},
   "outputs": [],
   "source": [
    "def pronoun_confusion_mtx_analysis(df, pred_i=0):\n",
    "    assert pred_i < NUM_SAMPLES\n",
    "\n",
    "    golds = []\n",
    "    preds = []\n",
    "    \n",
    "    for i, row in df.iterrows():\n",
    "        if row[\"gold_type\"] == \"pronoun\" and row[\"pred%d_type\"% pred_i] == \"pronoun\":\n",
    "            golds.append(row[\"gold\"])\n",
    "            preds.append(row[\"pred%d\" % pred_i])\n",
    "    \n",
    "    labels = [\"I\", \"me\", \"my\", \"mine\", \n",
    "                        \"you\", \"your\", \"yours\",\n",
    "                        \"she\", \"her\",\n",
    "                        \"he\", \"him\", \"his\",\n",
    "                        \"it\", \"its\",\n",
    "                        \"we\", \"us\", \"our\", \"ours\",\n",
    "                        \"they\", \"them\", \"their\"]\n",
    "    cmtx = confusion_matrix(golds, preds, labels=labels)\n",
    "    df_cm = pd.DataFrame(cmtx, index=labels, columns=labels)\n",
    "    plt.figure(figsize = (12,6))\n",
    "    sns.set(font_scale=1)#for label size\n",
    "    sns.heatmap(df_cm, fmt=\"d\", annot=True,annot_kws={\"size\": 10})# font size\n",
    "\n",
    "    plt.show()\n",
    "    return cmtx"
   ]
  },
  {
   "cell_type": "code",
   "execution_count": 87,
   "metadata": {},
   "outputs": [
    {
     "data": {
      "image/png": "[encoded data removed]",
      "text/plain": [
       "<Figure size 864x432 with 2 Axes>"
      ]
     },
     "metadata": {},
     "output_type": "display_data"
    }
   ],
   "source": [
    "cmtx = pronoun_confusion_mtx_analysis(raw_df)"
   ]
  },
  {
   "cell_type": "markdown",
   "metadata": {},
   "source": [
    "## accuracy, precision, recall for pronouns"
   ]
  },
  {
   "cell_type": "code",
   "execution_count": null,
   "metadata": {},
   "outputs": [],
   "source": [
    "def evaluate_pron_acc_prec_rec(df):\n",
    "    "
   ]
  },
  {
   "cell_type": "code",
   "execution_count": null,
   "metadata": {},
   "outputs": [],
   "source": [
    "# example of how to use parser\n",
    "\n",
    "# in terminal, run the following script:\n",
    "\"\"\"\n",
    "cd ~/stanford-corenlp-full-2018-02-27\n",
    "java -mx4g -cp \"*\" edu.stanford.nlp.pipeline.StanfordCoreNLPServer \\\n",
    "> -preload tokenize,ssplit,pos,lemma,ner,parse,depparse \\\n",
    "> -status_port 9000 -port 9000 -timeout 15000 & \n",
    "\"\"\"\n",
    "\n",
    "from nltk.parse import CoreNLPParser\n",
    "parser = CoreNLPParser(url='http://localhost:9000')\n",
    "\n",
    "list(parser.raw_parse(\"I put the book in the box on the table.\"))\n"
   ]
  }
 ],
 "metadata": {
  "kernelspec": {
   "display_name": "Python 3",
   "language": "python",
   "name": "python3"
  },
  "language_info": {
   "codemirror_mode": {
    "name": "ipython",
    "version": 3
   },
   "file_extension": ".py",
   "mimetype": "text/x-python",
   "name": "python",
   "nbconvert_exporter": "python",
   "pygments_lexer": "ipython3",
   "version": "3.7.5"
  }
 },
 "nbformat": 4,
 "nbformat_minor": 2
}
